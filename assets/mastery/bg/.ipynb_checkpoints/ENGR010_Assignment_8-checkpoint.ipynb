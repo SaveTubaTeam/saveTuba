{
 "cells": [
  {
   "cell_type": "markdown",
   "id": "631c8cb5",
   "metadata": {
    "id": "631c8cb5"
   },
   "source": [
    "# <center>Weekly Assignment 8: DNA Sequencing</center> #"
   ]
  },
  {
   "cell_type": "markdown",
   "id": "adbe781f",
   "metadata": {
    "id": "adbe781f"
   },
   "source": [
    "One of my first tasks at a BioTech startup company is to develop a software that can read DNA base sequences, and return their corresponding amino acids sequences. The company will be reading many different DNA base sequence text files so this software should help with using the library of DNA sequences. I will confirm that my software gives accurate corresponding amino acid sequences by confirming the amino acid sequence by a DNA-AminoAcid translation table provided by the company. "
   ]
  },
  {
   "cell_type": "markdown",
   "id": "e75fd9f0",
   "metadata": {
    "id": "e75fd9f0"
   },
   "source": [
    "#### 1. Reading in the data"
   ]
  },
  {
   "cell_type": "markdown",
   "id": "4990969d",
   "metadata": {
    "id": "4990969d"
   },
   "source": [
    "I will complete this sectionm by defining a function to read the DNA text file. I will then use strip and split command for each line to format the values of the txt file. They will all be appended to a list that will be returned at the end of the function."
   ]
  },
  {
   "cell_type": "code",
   "execution_count": 2,
   "id": "2d4e0bd7",
   "metadata": {
    "colab": {
     "base_uri": "https://localhost:8080/"
    },
    "id": "2d4e0bd7",
    "outputId": "dff88e1b-9d5f-4f98-ddef-44963070a8f1"
   },
   "outputs": [
    {
     "name": "stdout",
     "output_type": "stream",
     "text": [
      "['1', 'atgacatgaa', 'tggatgggcc', 'ggacacacct', 'tccatcccag', 'tcctgaaaac', 'cctgtccgga', '61', 'tctgcagacc', 'gttcccggac', 'gctgccagag', 'gagccgctga', 'gggccaagga', 'ctcacccctc', '121', 'agccccgatc', 'ctgtccgcgc', 'cctgtccctg', 'tcccttcgca', 'ctcgctctcc', 'acggctcccc', '181', 'gggcagcggg', 'cgcgcaccat', 'gctgcccagc', 'gctgtggccg', 'cccaggccgg', 'agcctactgg', '241', 'gatgtggtgg', 'cgtcctcagc', 'actcttcggc', 'cttcctgcgc', 'ccggctttgg', 'cagtctgggc', '301', 'aagagtttcc', 'tgatcgagaa', 'cttgctgcgc', 'gcaggggccg', 'ggcccacgca', 'cgcacccccg', '361', 'cccccacgcc', 'cagcgcccgg', 'tcctgagtgt', 'ccgcagctgc', 'ggccactgcc', 'tgccagccca', '421', 'gtgccgctca', 'agctgtgccc', 'ggccggaccc', 'tttggtgtgc', 'gctgggcctt', 'ccagatgccc', '481', 'cctggccggg', 'ctccggggga', 'gcgggacagt', 'gccttccagc', 'cctcagcccc', 'agtgccttcc', '541', 'aaaccctttc', 'ttctgagcgc', 'cccgccattc', 'tactctgcat', 'gctgcggtgg', 'gtcctgcagg', '601', 'cgcccagcat', 'cccccacagc', 'tttttcaaga', 'gaagaacacg', 'ggctgccttt', 'gctgacccag', '661', 'gactcaaatt', 'ccaaagctcg', 'cagggggatt', 'ttacgaagag', 'ctgtgttctc', 'agaggagcag', '721', 'agaaaggctc', 'tggagaaaat', 'gtttcagaag', 'cagaaataca', 'tcagcaaaac', 'agaccgaagg', '781', 'aaactcgcgg', 'tcagcttggg', 'actgaaggag', 'tcacaggtga', 'agatttggtt', 'ccagaaccga', '841', 'aggatgaaat', 'ggcggaattc', 'caaagaaaag', 'gaagtactct', 'ccagtaggtg', 'tctccaagaa', '901', 'gtgagccttc', 'aggaagacag', 'gctggcacgg', 'cctgccgtgg', 'gctgtcctcc', 'gcagtgcccg', '961', 'tcaatatggg', 'aagtctccca', 'gccacactca', 'agtccaagct', 'ggagggagga', 'gactccagaa', '1021', 'tctgcagaaa', 'gactgaccca', 'ggagaattca', 'ggggtcctgg', 'aagcagattc', 'actccgaggt', '1081', 'accttgtatc', 'tgtgtcctga', 'gaagggacct', 'agagacaagc', 'atggactcca', 'gagcaccatt', '1141', 'tgacgggaac', 'atactccgtg', 'tacatctaaa', 'agaaccctta', 'gccagtaaca', 'cttggattaa', '1201', 'agccagttag', 'attgtgcctc', 'aaaactgcct', 'taaactaata', 'ccttggcatg', 'atgcctgagc', '1261', 'tgttgcctaa', 'ggagagccac', 'tctactgttt', 'cttatttagc', 'cctagcctaa', 'ggctcaatgt', '1321', 'atatatggaa', 'tagaaccttc', 'cacaaagtgt', 'gataagactg', 'aaagaagagc', 'caggatcagc', '1381', 'cccagagcct', 'gttctgaata', 'tgtgtacata', 'ttcgtgtgtc', 'tgtgtgtttg', 'tatgtatatg', '1441', 'ctcattaaat', 'acatcatcag', 'aaattagttc', 'tctccaagtt', 'ttatatggaa', 'caaattcatt', '1501', 'tcattttgta', 'tgaagtaaaa', 'aaaaaaaaaa', 'ccaacgagca', 'aatattcatt', 'ttctaatagt', '1561', 'gtaaaatctg', 'ggcttttgtg', 'ctgcacaatt', 'aattatgccg', 'gtataaattc', 'tctgcttctg', '1621', 'gcctctttgg', 'tgtccactgt', 'caatgagttt', 'tagcaagctt', 'agcaacccta', 'gtcgagttag', '1681', 'ctgtggttag', 'acacacactg', 'aagagagaca', 'agaggaactc', 'aacaggaaac', 'tactactttt', '1741', 'gaatatagtt', 'attagtacct', 'ctagccccca', 'gttctgaggc', 'agctggggcc', 'atcagtgaag', '1801', 'aaggtctaca', 'ctgaggcgtt', 'gatcgtcttc', 'tggtctcttg', 'tctggctggg', 'tttcctaggc', '1861', 'cagagtcttc', 'taaacacaat', 'aaatgcctga', 'gtggaaggaa', 'gggcttgtca', 'ggcaactgtt', '1921', 'tgatcgtctg', 'caccaacgag', 'tttataatca', 'gcgaccaaga', 'tgaagtcaag', 'acccagggtc', '1981', 'actgttctca', 'aacagtctac', 'aacagggcta', 'aaaatcccag', 'ggctgaaggg', 'ctctgtggtc', '2041', 'aatgctgatt', 'gcacactaca', 'taccatctga', 'atttcccacc', 'tagctcgctc', 'acactacata', '2101', 'tgttatgtgg', 'ttttatatat', 'taacagacac', 'cacccagatg', 'ttttatgatt', 'accttgtaat', '2161', 'agtctttgtg', 'taaaatcaca', 'tttctggtaa', 'caattttctt', 'agttaatcca', 'aatatattaa', '2221', 'ttctaagccc', 'acaaaacaaa', 'acaaaatgtt', 'ttactttgca', 'ggaaatgaag', 'c']\n"
     ]
    }
   ],
   "source": [
    "def readDNA(file):\n",
    "  with open(file, 'r') as fh:\n",
    "    data= fh.read()\n",
    "    for line in data:\n",
    "      for i in line:\n",
    "        data2 = data.strip()\n",
    "        datasplit = data2.split()\n",
    "    list1 = []\n",
    "    for x in datasplit:\n",
    "      list1.append(x)\n",
    "    \n",
    "    return list1\n",
    "\n",
    "print(readDNA('DNA_2.txt'))\n"
   ]
  },
  {
   "cell_type": "markdown",
   "id": "85c1370b",
   "metadata": {
    "id": "85c1370b"
   },
   "source": [
    "#### 2. Reading in the translation table"
   ]
  },
  {
   "cell_type": "markdown",
   "id": "e6d6961c",
   "metadata": {
    "id": "e6d6961c"
   },
   "source": [
    "I will complete this section by defining a function to read the amino acid translation table. I will read line by line and strip extra spaces and quotations as well as split each string into a list. The list will contain the 3-sequence base and its corresponding amino acid."
   ]
  },
  {
   "cell_type": "code",
   "execution_count": 4,
   "id": "ca71576f",
   "metadata": {
    "colab": {
     "base_uri": "https://localhost:8080/"
    },
    "id": "ca71576f",
    "outputId": "107e838e-8489-4ad6-afcb-06640ef08a49"
   },
   "outputs": [
    {
     "name": "stdout",
     "output_type": "stream",
     "text": [
      "{\"'ATA'\": \"'I'\", \" 'ATC'\": \"'I'\", \" 'ATT'\": \"'I'\", \" 'ATG'\": \"'M'\", '': '', \"'ACA'\": \"'T'\", \" 'ACC'\": \"'T'\", \" 'ACG'\": \"'T'\", \" 'ACT'\": \"'T'\", \"'AAC'\": \"'N'\", \" 'AAT'\": \"'N'\", \" 'AAA'\": \"'K'\", \" 'AAG'\": \"'K'\", \"'AGC'\": \"'S'\", \" 'AGT'\": \"'S'\", \" 'AGA'\": \"'R'\", \" 'AGG'\": \"'R'\", \"'CTA'\": \"'L'\", \" 'CTC'\": \"'L'\", \" 'CTG'\": \"'L'\", \" 'CTT'\": \"'L'\", \"'CCA'\": \"'P'\", \" 'CCC'\": \"'P'\", \" 'CCG'\": \"'P'\", \" 'CCT'\": \"'P'\", \"'CAC'\": \"'H'\", \" 'CAT'\": \"'H'\", \" 'CAA'\": \"'Q'\", \" 'CAG'\": \"'Q'\", \"'CGA'\": \"'R'\", \" 'CGC'\": \"'R'\", \" 'CGG'\": \"'R'\", \" 'CGT'\": \"'R'\", \"'GTA'\": \"'V'\", \" 'GTC'\": \"'V'\", \" 'GTG'\": \"'V'\", \" 'GTT'\": \"'V'\", \"'GCA'\": \"'A'\", \" 'GCC'\": \"'A'\", \" 'GCG'\": \"'A'\", \" 'GCT'\": \"'A'\", \"'GAC'\": \"'D'\", \" 'GAT'\": \"'D'\", \" 'GAA'\": \"'E'\", \" 'GAG'\": \"'E'\", \"'GGA'\": \"'G'\", \" 'GGC'\": \"'G'\", \" 'GGG'\": \"'G'\", \" 'GGT'\": \"'G'\", \"'TCA'\": \"'S'\", \" 'TCC'\": \"'S'\", \" 'TCG'\": \"'S'\", \" 'TCT'\": \"'S'\", \"'TTC'\": \"'F'\", \" 'TTT'\": \"'F'\", \" 'TTA'\": \"'L'\", \" 'TTG'\": \"'L'\", \"'TAC'\": \"'Y'\", \" 'TAT'\": \"'Y'\", \" 'TAA'\": \"'_'\", \" 'TAG'\": \"'_'\", \"'TGC'\": \"'C'\", \" 'TGT'\": \"'C'\", \" 'TGA'\": \"'_'\", \" 'TGG'\": \"'W'\"}\n",
      "'I'\n"
     ]
    }
   ],
   "source": [
    "with open('DNA_Amino_Acid_Translation_Table.txt', 'r') as fh:\n",
    "  Aminodict = {}\n",
    "  for line in fh:\n",
    "    line = line.strip()\n",
    "    line = line.split(',')\n",
    "    for i in line:\n",
    "      newi = i.split(':')\n",
    "      newi.append(i)\n",
    "      Aminodict[str(newi[0])]=str(newi[1])\n",
    "\n",
    "print(Aminodict)\n",
    "print(Aminodict[\"'ATA'\"])"
   ]
  },
  {
   "cell_type": "markdown",
   "id": "50e1ce5d",
   "metadata": {
    "id": "50e1ce5d"
   },
   "source": [
    "#### 3. Create the Amino Acid Sequence from the DNA sequence"
   ]
  },
  {
   "cell_type": "markdown",
   "id": "125b3076",
   "metadata": {
    "id": "125b3076"
   },
   "source": [
    "I will complete this section by reading in the dna sequence list and reading the length of each line in intervals of 3. The function will return a list with the amino acid sequences of 3 DNA bases."
   ]
  },
  {
   "cell_type": "code",
   "execution_count": 5,
   "id": "48a42b19",
   "metadata": {
    "colab": {
     "base_uri": "https://localhost:8080/",
     "height": 334
    },
    "id": "48a42b19",
    "outputId": "cad36c5a-287b-47c1-a038-052130c9a57d"
   },
   "outputs": [
    {
     "ename": "KeyError",
     "evalue": "'1ATGACATGAATGGATGGGCC'",
     "output_type": "error",
     "traceback": [
      "\u001b[0;31m---------------------------------------------------------------------------\u001b[0m",
      "\u001b[0;31mKeyError\u001b[0m                                  Traceback (most recent call last)",
      "\u001b[0;32m<ipython-input-5-85f653443a59>\u001b[0m in \u001b[0;36m<module>\u001b[0;34m\u001b[0m\n\u001b[1;32m     14\u001b[0m   \u001b[0;32mreturn\u001b[0m \u001b[0mprotein\u001b[0m\u001b[0;34m\u001b[0m\u001b[0;34m\u001b[0m\u001b[0m\n\u001b[1;32m     15\u001b[0m \u001b[0;34m\u001b[0m\u001b[0m\n\u001b[0;32m---> 16\u001b[0;31m \u001b[0mprint\u001b[0m\u001b[0;34m(\u001b[0m\u001b[0maminoseq\u001b[0m\u001b[0;34m(\u001b[0m\u001b[0;34m'DNA_2.txt'\u001b[0m\u001b[0;34m,\u001b[0m \u001b[0mAminodict\u001b[0m\u001b[0;34m)\u001b[0m\u001b[0;34m)\u001b[0m\u001b[0;34m\u001b[0m\u001b[0;34m\u001b[0m\u001b[0m\n\u001b[0m\u001b[1;32m     17\u001b[0m \u001b[0;34m\u001b[0m\u001b[0m\n",
      "\u001b[0;32m<ipython-input-5-85f653443a59>\u001b[0m in \u001b[0;36maminoseq\u001b[0;34m(dnalist, transdic)\u001b[0m\n\u001b[1;32m      8\u001b[0m       \u001b[0mnewstring\u001b[0m\u001b[0;34m=\u001b[0m \u001b[0mnewstring\u001b[0m \u001b[0;34m+\u001b[0m \u001b[0mdnastring\u001b[0m\u001b[0;34m[\u001b[0m\u001b[0mx\u001b[0m\u001b[0;34m]\u001b[0m\u001b[0;34m\u001b[0m\u001b[0;34m\u001b[0m\u001b[0m\n\u001b[1;32m      9\u001b[0m       \u001b[0;32mif\u001b[0m \u001b[0mlen\u001b[0m\u001b[0;34m(\u001b[0m\u001b[0mnewstring\u001b[0m\u001b[0;34m)\u001b[0m\u001b[0;34m%\u001b[0m\u001b[0;36m3\u001b[0m\u001b[0;34m==\u001b[0m\u001b[0;36m0\u001b[0m\u001b[0;34m:\u001b[0m\u001b[0;34m\u001b[0m\u001b[0;34m\u001b[0m\u001b[0m\n\u001b[0;32m---> 10\u001b[0;31m         \u001b[0mprotein\u001b[0m\u001b[0;34m+=\u001b[0m \u001b[0;34m(\u001b[0m\u001b[0mtransdic\u001b[0m\u001b[0;34m[\u001b[0m\u001b[0mnewstring\u001b[0m\u001b[0;34m.\u001b[0m\u001b[0mupper\u001b[0m\u001b[0;34m(\u001b[0m\u001b[0;34m)\u001b[0m\u001b[0;34m]\u001b[0m\u001b[0;34m)\u001b[0m\u001b[0;34m\u001b[0m\u001b[0;34m\u001b[0m\u001b[0m\n\u001b[0m\u001b[1;32m     11\u001b[0m         \u001b[0mnewstring\u001b[0m \u001b[0;34m=\u001b[0m \u001b[0;34m''\u001b[0m\u001b[0;34m\u001b[0m\u001b[0;34m\u001b[0m\u001b[0m\n\u001b[1;32m     12\u001b[0m       \u001b[0;32melif\u001b[0m \u001b[0mlen\u001b[0m\u001b[0;34m(\u001b[0m\u001b[0mnewstring\u001b[0m\u001b[0;34m)\u001b[0m\u001b[0;34m%\u001b[0m\u001b[0;36m3\u001b[0m\u001b[0;34m!=\u001b[0m\u001b[0;36m0\u001b[0m\u001b[0;34m:\u001b[0m\u001b[0;34m\u001b[0m\u001b[0;34m\u001b[0m\u001b[0m\n",
      "\u001b[0;31mKeyError\u001b[0m: '1ATGACATGAATGGATGGGCC'"
     ]
    }
   ],
   "source": [
    "def aminoseq(dnalist, transdic):\n",
    "  dnastring = readDNA(dnalist)\n",
    "  isDone= False\n",
    "  protein= ''\n",
    "  newstring = ''\n",
    "  while isDone==False:\n",
    "    for x in range(0, len(dnastring)):\n",
    "      newstring= newstring + dnastring[x]\n",
    "      if len(newstring)%3==0:\n",
    "        protein += (transdic[newstring.upper()])\n",
    "        newstring = ''\n",
    "      elif len(newstring)%3!=0:\n",
    "        isDone == True\n",
    "  return protein\n",
    "\n",
    "print(aminoseq('DNA_2.txt', Aminodict))\n",
    "\n"
   ]
  },
  {
   "cell_type": "markdown",
   "id": "5804f5af",
   "metadata": {
    "id": "5804f5af"
   },
   "source": [
    "#### 4. Create the Official Amino Acid Sequence"
   ]
  },
  {
   "cell_type": "markdown",
   "id": "41da71c3",
   "metadata": {
    "id": "41da71c3"
   },
   "source": [
    "I will complete this section by reading in the data from the second Amino Acid list. I will separate each character and append each to a list that will be returned at the end of the function."
   ]
  },
  {
   "cell_type": "code",
   "execution_count": null,
   "id": "2c77129f",
   "metadata": {
    "colab": {
     "base_uri": "https://localhost:8080/"
    },
    "id": "2c77129f",
    "outputId": "874095ed-b6f5-43b4-80a0-54702eaad7b3"
   },
   "outputs": [
    {
     "name": "stdout",
     "output_type": "stream",
     "text": [
      "['M', 'D', 'G', 'P', 'D', 'T', 'P', 'S', 'I', 'P', 'V', 'L', 'K', 'T', 'L', 'S', 'G', 'S', 'A', 'D', 'R', 'S', 'R', 'T', 'L', 'P', 'E', 'E', 'P', 'L', 'R', 'A', 'K', 'D', 'S', 'P', 'L', 'S', 'P', 'D', 'P', 'V', 'R', 'A', '\\n', 'L', 'S', 'L', 'S', 'L', 'R', 'T', 'R', 'S', 'P', 'R', 'L', 'P', 'G', 'Q', 'R', 'A', 'R', 'T', 'M', 'L', 'P', 'S', 'A', 'V', 'A', 'A', 'Q', 'A', 'G', 'A', 'Y', 'W', 'D', 'V', 'V', 'A', 'S', 'S', 'A', 'L', 'F', 'G', 'L', 'P', 'A', 'P', 'G', 'F', 'G', 'S', 'L', 'G', 'K', 'S', 'F', 'L', 'I', '\\n', 'E', 'N', 'L', 'L', 'R', 'A', 'G', 'A', 'G', 'P', 'T', 'H', 'A', 'P', 'P', 'P', 'P', 'R', 'P', 'A', 'P', 'G', 'P', 'E', 'C', 'P', 'Q', 'L', 'R', 'P', 'L', 'P', 'A', 'S', 'P', 'V', 'P', 'L', 'K', 'L', 'C', 'P', 'A', 'G', 'P', 'F', 'G', 'V', 'R', 'W', 'A', 'F', 'Q', 'M', 'P', 'P', 'G', 'R', '\\n', 'A', 'P', 'G', 'E', 'R', 'D', 'S', 'A', 'F', 'Q', 'P', 'S', 'A', 'P', 'V', 'P', 'S', 'K', 'P', 'F', 'L', 'L', 'S', 'A', 'P', 'P', 'F', 'Y', 'S', 'A', 'C', 'C', 'G', 'G', 'S', 'C', 'R', 'R', 'P', 'A', 'S', 'P', 'T', 'A', 'F', 'S', 'R', 'E', 'E', 'H', 'G', 'L', 'P', 'L', 'L', 'T', 'Q', 'D', '\\n', 'S', 'N', 'S', 'K', 'A', 'R', 'R', 'G', 'I', 'L', 'R', 'R', 'A', 'V', 'F', 'S', 'E', 'E', 'Q', 'R', 'K', 'A', 'L', 'E', 'K', 'M', 'F', 'Q', 'K', 'Q', 'K', 'Y', 'I', 'S', 'K', 'T', 'D', 'R', 'R', 'K', 'L', 'A', 'V', 'S', 'L', 'G', 'L', 'K', 'E', 'S', 'Q', 'V', 'K', 'I', 'W', 'F', 'Q', 'N', '\\n', 'R', 'R', 'M', 'K', 'W', 'R', 'N', 'S', 'K', 'E', 'K', 'E', 'V', 'L', 'S', 'S', 'R', 'C', 'L', 'Q', 'E', 'V', 'S', 'L', 'Q', 'E', 'D', 'R', 'L', 'A', 'R', 'P', 'A', 'V', 'G', 'C', 'P', 'P', 'Q', 'C', 'P', 'S', 'I', 'W', 'E', 'V', 'S', 'Q', 'P', 'H', 'S', 'S', 'P', 'S', 'W', 'R', 'E', 'E', '\\n', 'T', 'P', 'E', 'S', 'A', 'E', 'R', 'L', 'T', 'Q', 'E', 'N', 'S', 'G', 'V', 'L', 'E', 'A', 'D', 'S', 'L', 'R', 'G', 'T', 'L', 'Y', 'L', 'C', 'P', 'E', 'K', 'G', 'P', 'R', 'D', 'K', 'H', 'G', 'L', 'Q', 'S', 'T', 'I']\n"
     ]
    }
   ],
   "source": [
    "def amino(table):\n",
    "  with open(table, 'r') as fh:\n",
    "    Aminos = fh.read()\n",
    "    list2 = []\n",
    "    for line in Aminos:\n",
    "      for x in line:\n",
    "        list2.append(x)\n",
    "    return list2\n",
    "\n",
    "print(amino('Amino_Acid_2_10_1143.txt'))"
   ]
  },
  {
   "cell_type": "markdown",
   "id": "3b8da4ee",
   "metadata": {
    "id": "3b8da4ee"
   },
   "source": [
    "#### 5. Compare two Amino Acid Sequences"
   ]
  },
  {
   "cell_type": "markdown",
   "id": "2df47ef5",
   "metadata": {
    "id": "2df47ef5"
   },
   "source": [
    "I plan to write two functions to complete this task. One to read the DNA file and strip spaces as well as the digits. These will be appended to a list to compare with amino acid sequences later on. The second function will accept the DNA file and the amino acid table. For the length of the DNA file, the function will check if the DNA sequences are identical to those in the amino acid table and will return True or False based on this."
   ]
  },
  {
   "cell_type": "code",
   "execution_count": null,
   "id": "233265b1",
   "metadata": {
    "colab": {
     "base_uri": "https://localhost:8080/"
    },
    "id": "233265b1",
    "outputId": "dad062d6-21cf-45ba-c5f4-84f322d9d41d"
   },
   "outputs": [
    {
     "name": "stdout",
     "output_type": "stream",
     "text": [
      "False\n"
     ]
    }
   ],
   "source": [
    "def readDNA(file):\n",
    "  with open(file, 'r') as fh:\n",
    "    data= fh.read()\n",
    "    data1= data.strip('')\n",
    "    data2 = ''.join([i for i in data1 if not i.isdigit()])\n",
    "    datasplit = data2.split()\n",
    "    list1 = ''\n",
    "\n",
    "    for x in datasplit:\n",
    "      list1+=x\n",
    "    return list1\n",
    "\n",
    "def compare(ori, ami):\n",
    "  error = {}\n",
    "  ori1 = readDNA(ori)\n",
    "  ami1 = readDNA(ami)\n",
    "  for i in range(0,len(ori1)):\n",
    "    if ori1[i:i+3] == ami1[i:i+3]:\n",
    "        return True\n",
    "    if ori1[i:i+3] != ami1[i:i+3]:\n",
    "        return False\n",
    "\n",
    "ans = compare('DNA_2.txt', 'Amino_Acid_2_10_1143.txt')\n",
    "print(ans)"
   ]
  },
  {
   "cell_type": "markdown",
   "id": "dd3232d7",
   "metadata": {
    "id": "dd3232d7"
   },
   "source": [
    "#### 6. Confirm the three test DNA sequences"
   ]
  },
  {
   "cell_type": "markdown",
   "id": "507ec782",
   "metadata": {
    "id": "507ec782"
   },
   "source": [
    "I will copy the code from part 5, replacing the inputs to my function with DNA 1 and DNA 3 text files. This will test those cases as well for amino acid sequences."
   ]
  },
  {
   "cell_type": "code",
   "execution_count": null,
   "id": "T2Y-PifTp56B",
   "metadata": {
    "colab": {
     "base_uri": "https://localhost:8080/"
    },
    "id": "T2Y-PifTp56B",
    "outputId": "de8487b5-0d08-4691-e732-05520f4a6478"
   },
   "outputs": [
    {
     "name": "stdout",
     "output_type": "stream",
     "text": [
      "False\n"
     ]
    }
   ],
   "source": [
    "def readDNA(file):\n",
    "  with open(file, 'r') as fh:\n",
    "    data= fh.read()\n",
    "    data1= data.strip('')\n",
    "    data2 = ''.join([i for i in data1 if not i.isdigit()])\n",
    "    datasplit = data2.split()\n",
    "    list1 = ''\n",
    "\n",
    "    for x in datasplit:\n",
    "      list1+=x\n",
    "    return list1\n",
    "\n",
    "def compare(ori, ami):\n",
    "  error = {}\n",
    "  ori1 = readDNA(ori)\n",
    "  ami1 = readDNA(ami)\n",
    "  for i in range(0,len(ori1)):\n",
    "    if ori1[i:i+3] == ami1[i:i+3]:\n",
    "        return True\n",
    "    if ori1[i:i+3] != ami1[i:i+3]:\n",
    "        return False\n",
    "\n",
    "ans = compare('DNA_1.txt', 'Amino_Acid_1_37_1068.txt')\n",
    "print(ans)"
   ]
  },
  {
   "cell_type": "code",
   "execution_count": null,
   "id": "107417c7",
   "metadata": {
    "colab": {
     "base_uri": "https://localhost:8080/"
    },
    "id": "107417c7",
    "outputId": "42ed676c-e739-4fe7-aa05-05d5ef0e68a1"
   },
   "outputs": [
    {
     "name": "stdout",
     "output_type": "stream",
     "text": [
      "False\n"
     ]
    }
   ],
   "source": [
    "def readDNA(file):\n",
    "  with open(file, 'r') as fh:\n",
    "    data= fh.read()\n",
    "    data1= data.strip('')\n",
    "    data2 = ''.join([i for i in data1 if not i.isdigit()])\n",
    "    datasplit = data2.split()\n",
    "    list1 = ''\n",
    "\n",
    "    for x in datasplit:\n",
    "      list1+=x\n",
    "    return list1\n",
    "\n",
    "def compare(ori, ami):\n",
    "  error = {}\n",
    "  ori1 = readDNA(ori)\n",
    "  ami1 = readDNA(ami)\n",
    "  for i in range(0,len(ori1)):\n",
    "    if ori1[i:i+3] == ami1[i:i+3]:\n",
    "        return True\n",
    "    if ori1[i:i+3] != ami1[i:i+3]:\n",
    "        return False\n",
    "\n",
    "ans = compare('DNA_3.txt', 'Amino_Acid_3_107_430.txt')\n",
    "print(ans)"
   ]
  },
  {
   "cell_type": "markdown",
   "id": "c6db91fa",
   "metadata": {
    "id": "c6db91fa"
   },
   "source": [
    "Overall we can see that the DNA files have many sequences of amino acids and were accurate corresponding to the Amino Acid Translation Table."
   ]
  }
 ],
 "metadata": {
  "colab": {
   "collapsed_sections": [],
   "provenance": []
  },
  "kernelspec": {
   "display_name": "Python 3",
   "language": "python",
   "name": "python3"
  },
  "language_info": {
   "codemirror_mode": {
    "name": "ipython",
    "version": 3
   },
   "file_extension": ".py",
   "mimetype": "text/x-python",
   "name": "python",
   "nbconvert_exporter": "python",
   "pygments_lexer": "ipython3",
   "version": "3.8.8"
  }
 },
 "nbformat": 4,
 "nbformat_minor": 5
}
